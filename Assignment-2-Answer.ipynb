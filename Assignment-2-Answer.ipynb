{
 "cells": [
  {
   "cell_type": "markdown",
   "id": "049d077e",
   "metadata": {},
   "source": [
    "# **Assignment II Answer**"
   ]
  },
  {
   "cell_type": "markdown",
   "id": "e78f149b",
   "metadata": {},
   "source": [
    "Import packages and load the Dataset"
   ]
  },
  {
   "cell_type": "code",
   "execution_count": 41,
   "id": "4cfcbdc5",
   "metadata": {},
   "outputs": [
    {
     "data": {
      "text/html": [
       "<div>\n",
       "<style scoped>\n",
       "    .dataframe tbody tr th:only-of-type {\n",
       "        vertical-align: middle;\n",
       "    }\n",
       "\n",
       "    .dataframe tbody tr th {\n",
       "        vertical-align: top;\n",
       "    }\n",
       "\n",
       "    .dataframe thead th {\n",
       "        text-align: right;\n",
       "    }\n",
       "</style>\n",
       "<table border=\"1\" class=\"dataframe\">\n",
       "  <thead>\n",
       "    <tr style=\"text-align: right;\">\n",
       "      <th></th>\n",
       "      <th>crim</th>\n",
       "      <th>zn</th>\n",
       "      <th>indus</th>\n",
       "      <th>chas</th>\n",
       "      <th>nox</th>\n",
       "      <th>rm</th>\n",
       "      <th>age</th>\n",
       "      <th>dis</th>\n",
       "      <th>rad</th>\n",
       "      <th>tax</th>\n",
       "      <th>ptratio</th>\n",
       "      <th>lstat</th>\n",
       "      <th>medv</th>\n",
       "    </tr>\n",
       "  </thead>\n",
       "  <tbody>\n",
       "    <tr>\n",
       "      <th>0</th>\n",
       "      <td>0.00632</td>\n",
       "      <td>18.0</td>\n",
       "      <td>2.31</td>\n",
       "      <td>0</td>\n",
       "      <td>0.538</td>\n",
       "      <td>6.575</td>\n",
       "      <td>65.2</td>\n",
       "      <td>4.0900</td>\n",
       "      <td>1</td>\n",
       "      <td>296</td>\n",
       "      <td>15.3</td>\n",
       "      <td>4.98</td>\n",
       "      <td>24.0</td>\n",
       "    </tr>\n",
       "    <tr>\n",
       "      <th>1</th>\n",
       "      <td>0.02731</td>\n",
       "      <td>0.0</td>\n",
       "      <td>7.07</td>\n",
       "      <td>0</td>\n",
       "      <td>0.469</td>\n",
       "      <td>6.421</td>\n",
       "      <td>78.9</td>\n",
       "      <td>4.9671</td>\n",
       "      <td>2</td>\n",
       "      <td>242</td>\n",
       "      <td>17.8</td>\n",
       "      <td>9.14</td>\n",
       "      <td>21.6</td>\n",
       "    </tr>\n",
       "    <tr>\n",
       "      <th>2</th>\n",
       "      <td>0.02729</td>\n",
       "      <td>0.0</td>\n",
       "      <td>7.07</td>\n",
       "      <td>0</td>\n",
       "      <td>0.469</td>\n",
       "      <td>7.185</td>\n",
       "      <td>61.1</td>\n",
       "      <td>4.9671</td>\n",
       "      <td>2</td>\n",
       "      <td>242</td>\n",
       "      <td>17.8</td>\n",
       "      <td>4.03</td>\n",
       "      <td>34.7</td>\n",
       "    </tr>\n",
       "    <tr>\n",
       "      <th>3</th>\n",
       "      <td>0.03237</td>\n",
       "      <td>0.0</td>\n",
       "      <td>2.18</td>\n",
       "      <td>0</td>\n",
       "      <td>0.458</td>\n",
       "      <td>6.998</td>\n",
       "      <td>45.8</td>\n",
       "      <td>6.0622</td>\n",
       "      <td>3</td>\n",
       "      <td>222</td>\n",
       "      <td>18.7</td>\n",
       "      <td>2.94</td>\n",
       "      <td>33.4</td>\n",
       "    </tr>\n",
       "    <tr>\n",
       "      <th>4</th>\n",
       "      <td>0.06905</td>\n",
       "      <td>0.0</td>\n",
       "      <td>2.18</td>\n",
       "      <td>0</td>\n",
       "      <td>0.458</td>\n",
       "      <td>7.147</td>\n",
       "      <td>54.2</td>\n",
       "      <td>6.0622</td>\n",
       "      <td>3</td>\n",
       "      <td>222</td>\n",
       "      <td>18.7</td>\n",
       "      <td>5.33</td>\n",
       "      <td>36.2</td>\n",
       "    </tr>\n",
       "    <tr>\n",
       "      <th>...</th>\n",
       "      <td>...</td>\n",
       "      <td>...</td>\n",
       "      <td>...</td>\n",
       "      <td>...</td>\n",
       "      <td>...</td>\n",
       "      <td>...</td>\n",
       "      <td>...</td>\n",
       "      <td>...</td>\n",
       "      <td>...</td>\n",
       "      <td>...</td>\n",
       "      <td>...</td>\n",
       "      <td>...</td>\n",
       "      <td>...</td>\n",
       "    </tr>\n",
       "    <tr>\n",
       "      <th>501</th>\n",
       "      <td>0.06263</td>\n",
       "      <td>0.0</td>\n",
       "      <td>11.93</td>\n",
       "      <td>0</td>\n",
       "      <td>0.573</td>\n",
       "      <td>6.593</td>\n",
       "      <td>69.1</td>\n",
       "      <td>2.4786</td>\n",
       "      <td>1</td>\n",
       "      <td>273</td>\n",
       "      <td>21.0</td>\n",
       "      <td>9.67</td>\n",
       "      <td>22.4</td>\n",
       "    </tr>\n",
       "    <tr>\n",
       "      <th>502</th>\n",
       "      <td>0.04527</td>\n",
       "      <td>0.0</td>\n",
       "      <td>11.93</td>\n",
       "      <td>0</td>\n",
       "      <td>0.573</td>\n",
       "      <td>6.120</td>\n",
       "      <td>76.7</td>\n",
       "      <td>2.2875</td>\n",
       "      <td>1</td>\n",
       "      <td>273</td>\n",
       "      <td>21.0</td>\n",
       "      <td>9.08</td>\n",
       "      <td>20.6</td>\n",
       "    </tr>\n",
       "    <tr>\n",
       "      <th>503</th>\n",
       "      <td>0.06076</td>\n",
       "      <td>0.0</td>\n",
       "      <td>11.93</td>\n",
       "      <td>0</td>\n",
       "      <td>0.573</td>\n",
       "      <td>6.976</td>\n",
       "      <td>91.0</td>\n",
       "      <td>2.1675</td>\n",
       "      <td>1</td>\n",
       "      <td>273</td>\n",
       "      <td>21.0</td>\n",
       "      <td>5.64</td>\n",
       "      <td>23.9</td>\n",
       "    </tr>\n",
       "    <tr>\n",
       "      <th>504</th>\n",
       "      <td>0.10959</td>\n",
       "      <td>0.0</td>\n",
       "      <td>11.93</td>\n",
       "      <td>0</td>\n",
       "      <td>0.573</td>\n",
       "      <td>6.794</td>\n",
       "      <td>89.3</td>\n",
       "      <td>2.3889</td>\n",
       "      <td>1</td>\n",
       "      <td>273</td>\n",
       "      <td>21.0</td>\n",
       "      <td>6.48</td>\n",
       "      <td>22.0</td>\n",
       "    </tr>\n",
       "    <tr>\n",
       "      <th>505</th>\n",
       "      <td>0.04741</td>\n",
       "      <td>0.0</td>\n",
       "      <td>11.93</td>\n",
       "      <td>0</td>\n",
       "      <td>0.573</td>\n",
       "      <td>6.030</td>\n",
       "      <td>80.8</td>\n",
       "      <td>2.5050</td>\n",
       "      <td>1</td>\n",
       "      <td>273</td>\n",
       "      <td>21.0</td>\n",
       "      <td>7.88</td>\n",
       "      <td>11.9</td>\n",
       "    </tr>\n",
       "  </tbody>\n",
       "</table>\n",
       "<p>506 rows × 13 columns</p>\n",
       "</div>"
      ],
      "text/plain": [
       "        crim    zn  indus  chas    nox     rm   age     dis  rad  tax  \\\n",
       "0    0.00632  18.0   2.31     0  0.538  6.575  65.2  4.0900    1  296   \n",
       "1    0.02731   0.0   7.07     0  0.469  6.421  78.9  4.9671    2  242   \n",
       "2    0.02729   0.0   7.07     0  0.469  7.185  61.1  4.9671    2  242   \n",
       "3    0.03237   0.0   2.18     0  0.458  6.998  45.8  6.0622    3  222   \n",
       "4    0.06905   0.0   2.18     0  0.458  7.147  54.2  6.0622    3  222   \n",
       "..       ...   ...    ...   ...    ...    ...   ...     ...  ...  ...   \n",
       "501  0.06263   0.0  11.93     0  0.573  6.593  69.1  2.4786    1  273   \n",
       "502  0.04527   0.0  11.93     0  0.573  6.120  76.7  2.2875    1  273   \n",
       "503  0.06076   0.0  11.93     0  0.573  6.976  91.0  2.1675    1  273   \n",
       "504  0.10959   0.0  11.93     0  0.573  6.794  89.3  2.3889    1  273   \n",
       "505  0.04741   0.0  11.93     0  0.573  6.030  80.8  2.5050    1  273   \n",
       "\n",
       "     ptratio  lstat  medv  \n",
       "0       15.3   4.98  24.0  \n",
       "1       17.8   9.14  21.6  \n",
       "2       17.8   4.03  34.7  \n",
       "3       18.7   2.94  33.4  \n",
       "4       18.7   5.33  36.2  \n",
       "..       ...    ...   ...  \n",
       "501     21.0   9.67  22.4  \n",
       "502     21.0   9.08  20.6  \n",
       "503     21.0   5.64  23.9  \n",
       "504     21.0   6.48  22.0  \n",
       "505     21.0   7.88  11.9  \n",
       "\n",
       "[506 rows x 13 columns]"
      ]
     },
     "execution_count": 41,
     "metadata": {},
     "output_type": "execute_result"
    }
   ],
   "source": [
    "import numpy as np\n",
    "import pandas as pd\n",
    "import matplotlib.pyplot as plt\n",
    "import seaborn as sns\n",
    "import statsmodels.api as sm\n",
    "from ISLP import load_data\n",
    "\n",
    "Boston = load_data(\"Boston\")\n",
    "Boston"
   ]
  },
  {
   "cell_type": "markdown",
   "id": "26a2979d",
   "metadata": {},
   "source": [
    "# **Q.No: 01**\n",
    "\n",
    "## **1. In this exercise you will create some simulated data and will fit simple linear regression models to it. Make sure to use set.seed(1) prior to starting part (a) to ensure consistent results.rnorm**\n",
    "\n",
    "### A]  Using the rnorm() function, create a vector, “x”, containing 100 observations drawn from a N(0,1) distribution. This represents a feature, X.\n",
    "\n",
    "### Answer:\n"
   ]
  },
  {
   "cell_type": "code",
   "execution_count": 42,
   "id": "60f21432",
   "metadata": {},
   "outputs": [
    {
     "name": "stdout",
     "output_type": "stream",
     "text": [
      "[-0.37634937  0.75937874  0.22281924  0.14699794  1.30184033 -0.45267065\n",
      " -0.12158891  0.80877696 -0.58795847 -0.48837407 -0.27993569 -1.30906665\n",
      " -1.10652218  1.26053386 -0.20196894 -0.40013955  0.36663176 -0.5428554\n",
      "  2.71060701  1.57829581 -0.55043617 -0.23371887 -1.00380902 -0.00304177\n",
      "  0.8554853   0.4053931  -0.98527697  1.06917878 -1.32590168 -1.78064495\n",
      " -0.30585289 -0.68019999  0.79229645  1.4867322  -1.06219598 -0.57489821\n",
      "  0.4393208   0.65955237 -0.60460713 -0.58393699  2.29654517 -1.05847462\n",
      " -1.17158799 -1.76242037  1.22786285  0.33133889  0.87865705 -0.25413043\n",
      "  0.20375683 -0.9694105   1.53710498 -0.68748819  0.20886792  0.64966656\n",
      " -1.1395053  -0.15073004 -0.8384207   0.62500179  0.51116453 -0.78156016\n",
      " -0.92699757 -0.51751894  1.6253819  -2.63364023 -1.8286955  -0.35607282\n",
      " -2.41643782  0.87956071  1.0618741  -0.09112956  0.88301167 -2.21143668\n",
      "  1.29410394  1.52233519  0.78185884  0.3276809  -0.21753815  1.01378523\n",
      " -2.53084703  1.00749132 -0.10318249 -0.38122911  1.2938675   1.57843452\n",
      " -0.76902295  0.64627272  0.80320311 -0.53117284  1.00172754 -0.71159993\n",
      "  0.71386841  0.60165561  1.13511313  0.17538343  0.60702357 -0.4434459\n",
      "  0.83014233 -0.37853508 -0.86072486  0.30356438]\n"
     ]
    }
   ],
   "source": [
    "x = np.random.normal(0, 1, 100)\n",
    "print(x)\n"
   ]
  },
  {
   "cell_type": "markdown",
   "id": "e70bbdc0",
   "metadata": {},
   "source": [
    "### B]\tUsing the rnorm() function, create a vector, “eps”, containing 100 observations drawn from a N(0,0.25) distribution.\n",
    "\n",
    "### Answer:"
   ]
  },
  {
   "cell_type": "code",
   "execution_count": 43,
   "id": "e94992c6",
   "metadata": {},
   "outputs": [
    {
     "name": "stdout",
     "output_type": "stream",
     "text": [
      "[-0.01094293 -0.18787081 -0.01783266  0.51754028 -0.09697771  0.17238751\n",
      "  0.04722405  0.20041608 -0.29396945  0.22823169 -0.01466596  0.11261949\n",
      " -0.22256305 -0.28326461  0.11257373 -0.07201694 -0.04316216 -0.1975605\n",
      "  0.05056478  0.32816807  0.05831533 -0.16826769 -0.14260926  0.12303632\n",
      "  0.11809905  0.06883132 -0.0764636   0.03344933  0.07326408  0.00512559\n",
      "  0.05668931 -0.15827239  0.23592651 -0.10414623  0.17371956 -0.22131422\n",
      "  0.18784838  0.42287115  0.1819233   0.08710605  0.07852998  0.5756687\n",
      " -0.02132094 -0.18889437 -0.10014293  0.05380708 -0.17489828  0.23735758\n",
      "  0.29256523 -0.35178506 -0.19140673 -0.63257532  0.42025957 -0.47125244\n",
      " -0.1083771  -0.13017562 -0.0703809  -0.07564334  0.95380325  0.03105219\n",
      "  0.08064167  0.01536103  0.39180764 -0.30115419 -0.39766033  0.11639002\n",
      " -0.73291703 -0.01260591 -0.58782406 -0.24223925  0.1247526  -0.22666644\n",
      "  0.49783019 -0.1427541  -0.18330324 -0.09256375  0.33358546  0.47408134\n",
      " -0.1328335   0.2261808  -0.02994785  0.45289153  0.25326118 -0.05316593\n",
      " -0.13233073  0.05986955  0.21367978 -0.01592808 -0.01628124  0.0993517\n",
      " -0.15316589 -0.24988696  0.14472877 -0.09230895 -0.41530417 -0.02105038\n",
      "  0.27709338 -0.29110543 -0.17211254 -0.4453138 ]\n"
     ]
    }
   ],
   "source": [
    "eps = np.random.normal(0, 0.25, 100)\n",
    "print(eps)\n"
   ]
  },
  {
   "cell_type": "markdown",
   "id": "9aca85c1",
   "metadata": {},
   "source": [
    "### C]\tUsing “x” and “eps”, generate a vector “y” according to the model Y=−1+0.5X+ε. What is the length of the vector “y” ? What are the values of β0 and β1 in this linear model ?\n",
    "\n",
    "### Answer:"
   ]
  },
  {
   "cell_type": "code",
   "execution_count": 44,
   "id": "6e2ecc0f",
   "metadata": {},
   "outputs": [
    {
     "name": "stdout",
     "output_type": "stream",
     "text": [
      "Length of y: 100\n",
      "Beta0 (β0): -1\n",
      "Beta1 (β1): 0.5\n"
     ]
    }
   ],
   "source": [
    "y = -1 + 0.5 * x + eps\n",
    "print(\"Length of y:\", len(y))\n",
    "print(\"Beta0 (β0): -1\")\n",
    "print(\"Beta1 (β1): 0.5\")\n"
   ]
  },
  {
   "cell_type": "markdown",
   "id": "7695d1d4",
   "metadata": {},
   "source": [
    "### D]\tCreate a scatterplot displaying the relationship between “x” and “y”. Comment on what you observe.\n",
    "\n",
    "### Answer:\n"
   ]
  },
  {
   "cell_type": "code",
   "execution_count": 45,
   "id": "950b72fb",
   "metadata": {},
   "outputs": [
    {
     "data": {
      "image/png": "[encoded data removed]",
      "text/plain": [
       "<Figure size 640x480 with 1 Axes>"
      ]
     },
     "metadata": {},
     "output_type": "display_data"
    }
   ],
   "source": [
    "plt.scatter(x, y, color=\"blue\")\n",
    "plt.title(\"Scatterplot of X vs Y\")\n",
    "plt.xlabel(\"X\")\n",
    "plt.ylabel(\"Y\")\n",
    "plt.show()\n"
   ]
  },
  {
   "cell_type": "markdown",
   "id": "9f5c8bbc",
   "metadata": {},
   "source": [
    "### comment for option D\n",
    "\n",
    "The scatterplot shows a positive linear relationship.\n",
    "\n",
    "As x increases, y also increases.\n",
    "\n",
    "The points do not form a perfect straight line because of the random noise ε, but the trend is clearly upward."
   ]
  },
  {
   "cell_type": "markdown",
   "id": "54923dd0",
   "metadata": {},
   "source": [
    "### E]\tFit a least squares linear model to predict “y” using “x”. Comment on the model obtained. How do β^0 and β^1 compare to β0 and β1 ?\n",
    "\n",
    "### Answer:"
   ]
  },
  {
   "cell_type": "code",
   "execution_count": 46,
   "id": "07b61f9d",
   "metadata": {},
   "outputs": [
    {
     "name": "stdout",
     "output_type": "stream",
     "text": [
      "                            OLS Regression Results                            \n",
      "==============================================================================\n",
      "Dep. Variable:                      y   R-squared:                       0.840\n",
      "Model:                            OLS   Adj. R-squared:                  0.838\n",
      "Method:                 Least Squares   F-statistic:                     513.4\n",
      "Date:                Sun, 17 Aug 2025   Prob (F-statistic):           9.58e-41\n",
      "Time:                        13:17:45   Log-Likelihood:                -5.7472\n",
      "No. Observations:                 100   AIC:                             15.49\n",
      "Df Residuals:                      98   BIC:                             20.70\n",
      "Df Model:                           1                                         \n",
      "Covariance Type:            nonrobust                                         \n",
      "==============================================================================\n",
      "                 coef    std err          t      P>|t|      [0.025      0.975]\n",
      "------------------------------------------------------------------------------\n",
      "const         -1.0004      0.026    -38.640      0.000      -1.052      -0.949\n",
      "x1             0.5635      0.025     22.659      0.000       0.514       0.613\n",
      "==============================================================================\n",
      "Omnibus:                        6.195   Durbin-Watson:                   2.027\n",
      "Prob(Omnibus):                  0.045   Jarque-Bera (JB):                7.774\n",
      "Skew:                           0.283   Prob(JB):                       0.0205\n",
      "Kurtosis:                       4.243   Cond. No.                         1.04\n",
      "==============================================================================\n",
      "\n",
      "Notes:\n",
      "[1] Standard Errors assume that the covariance matrix of the errors is correctly specified.\n"
     ]
    }
   ],
   "source": [
    "X = sm.add_constant(x)\n",
    "model = sm.OLS(y, X).fit()\n",
    "print(model.summary())\n"
   ]
  },
  {
   "cell_type": "markdown",
   "id": "8383a7e4",
   "metadata": {},
   "source": [
    "### F]\tDisplay the least squares line on the scatterplot obtained in (d). Draw the population regression line on the plot, in a different color. Use the legend() function to create an appropriate legend.\n",
    "\n",
    "### Answer:"
   ]
  },
  {
   "cell_type": "code",
   "execution_count": 47,
   "id": "296f6106",
   "metadata": {},
   "outputs": [
    {
     "data": {
      "image/png": "[encoded data removed]",
      "text/plain": [
       "<Figure size 640x480 with 1 Axes>"
      ]
     },
     "metadata": {},
     "output_type": "display_data"
    }
   ],
   "source": [
    "plt.scatter(x, y, color=\"blue\", label=\"Data\")\n",
    "plt.plot(x, model.predict(X), color=\"red\", label=\"Least Squares Line\")\n",
    "plt.plot(x, -1 + 0.5*x, color=\"green\", linestyle=\"--\", label=\"True Line\")\n",
    "plt.title(\"Least Squares Line vs True Line\")\n",
    "plt.xlabel(\"X\")\n",
    "plt.ylabel(\"Y\")\n",
    "plt.legend()\n",
    "plt.show()\n"
   ]
  },
  {
   "cell_type": "markdown",
   "id": "b67a5785",
   "metadata": {},
   "source": [
    "# **Q.No: 02**\n",
    "\n",
    "## **2.  This problem involves the “Boston” data set, which we saw in the lab for this chapter. We will now try to predict per capita crime rate using the other variables in this data set. In other words, per capita crime rate is the response, and the other variables are the predictors.**\n",
    "\n",
    "### A]\tFor each predictor, fit a simple linear regression model to predict the response. Describe your results. In which of the models is there a statistically significant association between the predictor and the response ? Create some plots to back up your assertions.\n",
    "\n",
    "### Answer:\n"
   ]
  },
  {
   "cell_type": "code",
   "execution_count": 48,
   "id": "3b6f4499",
   "metadata": {},
   "outputs": [
    {
     "name": "stdout",
     "output_type": "stream",
     "text": [
      "Regression with rad predictor:\n",
      "\n",
      "                            OLS Regression Results                            \n",
      "==============================================================================\n",
      "Dep. Variable:                   crim   R-squared:                       0.391\n",
      "Model:                            OLS   Adj. R-squared:                  0.390\n",
      "Method:                 Least Squares   F-statistic:                     323.9\n",
      "Date:                Sun, 17 Aug 2025   Prob (F-statistic):           2.69e-56\n",
      "Time:                        13:17:45   Log-Likelihood:                -1680.8\n",
      "No. Observations:                 506   AIC:                             3366.\n",
      "Df Residuals:                     504   BIC:                             3374.\n",
      "Df Model:                           1                                         \n",
      "Covariance Type:            nonrobust                                         \n",
      "==============================================================================\n",
      "                 coef    std err          t      P>|t|      [0.025      0.975]\n",
      "------------------------------------------------------------------------------\n",
      "const         -2.2872      0.443     -5.157      0.000      -3.158      -1.416\n",
      "rad            0.6179      0.034     17.998      0.000       0.550       0.685\n",
      "==============================================================================\n",
      "Omnibus:                      656.459   Durbin-Watson:                   1.337\n",
      "Prob(Omnibus):                  0.000   Jarque-Bera (JB):            75417.007\n",
      "Skew:                           6.478   Prob(JB):                         0.00\n",
      "Kurtosis:                      61.389   Cond. No.                         19.2\n",
      "==============================================================================\n",
      "\n",
      "Notes:\n",
      "[1] Standard Errors assume that the covariance matrix of the errors is correctly specified.\n"
     ]
    }
   ],
   "source": [
    "y = Boston[\"crim\"]\n",
    "\n",
    "X_rad = sm.add_constant(Boston[\"rad\"])\n",
    "model_rad = sm.OLS(y, X_rad).fit()\n",
    "print(\"Regression with rad predictor:\\n\")\n",
    "print(model_rad.summary())"
   ]
  },
  {
   "cell_type": "code",
   "execution_count": 49,
   "id": "2ca8a8a8",
   "metadata": {},
   "outputs": [
    {
     "name": "stdout",
     "output_type": "stream",
     "text": [
      "\n",
      "Regression with tax predictor:\n",
      "\n",
      "                            OLS Regression Results                            \n",
      "==============================================================================\n",
      "Dep. Variable:                   crim   R-squared:                       0.340\n",
      "Model:                            OLS   Adj. R-squared:                  0.338\n",
      "Method:                 Least Squares   F-statistic:                     259.2\n",
      "Date:                Sun, 17 Aug 2025   Prob (F-statistic):           2.36e-47\n",
      "Time:                        13:17:45   Log-Likelihood:                -1701.4\n",
      "No. Observations:                 506   AIC:                             3407.\n",
      "Df Residuals:                     504   BIC:                             3415.\n",
      "Df Model:                           1                                         \n",
      "Covariance Type:            nonrobust                                         \n",
      "==============================================================================\n",
      "                 coef    std err          t      P>|t|      [0.025      0.975]\n",
      "------------------------------------------------------------------------------\n",
      "const         -8.5284      0.816    -10.454      0.000     -10.131      -6.926\n",
      "tax            0.0297      0.002     16.099      0.000       0.026       0.033\n",
      "==============================================================================\n",
      "Omnibus:                      635.377   Durbin-Watson:                   1.252\n",
      "Prob(Omnibus):                  0.000   Jarque-Bera (JB):            63763.835\n",
      "Skew:                           6.156   Prob(JB):                         0.00\n",
      "Kurtosis:                      56.599   Cond. No.                     1.16e+03\n",
      "==============================================================================\n",
      "\n",
      "Notes:\n",
      "[1] Standard Errors assume that the covariance matrix of the errors is correctly specified.\n",
      "[2] The condition number is large, 1.16e+03. This might indicate that there are\n",
      "strong multicollinearity or other numerical problems.\n"
     ]
    }
   ],
   "source": [
    "\n",
    "X_tax = sm.add_constant(Boston[\"tax\"])\n",
    "model_tax = sm.OLS(y, X_tax).fit()\n",
    "print(\"\\nRegression with tax predictor:\\n\")\n",
    "print(model_tax.summary())"
   ]
  },
  {
   "cell_type": "code",
   "execution_count": 50,
   "id": "bf50b792",
   "metadata": {},
   "outputs": [
    {
     "name": "stdout",
     "output_type": "stream",
     "text": [
      "\n",
      "Regression with lstat predictor:\n",
      "\n",
      "                            OLS Regression Results                            \n",
      "==============================================================================\n",
      "Dep. Variable:                   crim   R-squared:                       0.208\n",
      "Model:                            OLS   Adj. R-squared:                  0.206\n",
      "Method:                 Least Squares   F-statistic:                     132.0\n",
      "Date:                Sun, 17 Aug 2025   Prob (F-statistic):           2.65e-27\n",
      "Time:                        13:17:45   Log-Likelihood:                -1747.5\n",
      "No. Observations:                 506   AIC:                             3499.\n",
      "Df Residuals:                     504   BIC:                             3507.\n",
      "Df Model:                           1                                         \n",
      "Covariance Type:            nonrobust                                         \n",
      "==============================================================================\n",
      "                 coef    std err          t      P>|t|      [0.025      0.975]\n",
      "------------------------------------------------------------------------------\n",
      "const         -3.3305      0.694     -4.801      0.000      -4.694      -1.968\n",
      "lstat          0.5488      0.048     11.491      0.000       0.455       0.643\n",
      "==============================================================================\n",
      "Omnibus:                      601.306   Durbin-Watson:                   1.182\n",
      "Prob(Omnibus):                  0.000   Jarque-Bera (JB):            49918.826\n",
      "Skew:                           5.645   Prob(JB):                         0.00\n",
      "Kurtosis:                      50.331   Cond. No.                         29.7\n",
      "==============================================================================\n",
      "\n",
      "Notes:\n",
      "[1] Standard Errors assume that the covariance matrix of the errors is correctly specified.\n"
     ]
    }
   ],
   "source": [
    "\n",
    "X_lstat = sm.add_constant(Boston[\"lstat\"])\n",
    "model_lstat = sm.OLS(y, X_lstat).fit()\n",
    "print(\"\\nRegression with lstat predictor:\\n\")\n",
    "print(model_lstat.summary())"
   ]
  },
  {
   "cell_type": "markdown",
   "id": "79203fce",
   "metadata": {},
   "source": [
    "### B]\tFit a multiple regression model to predict the response using all of the predictors. Describe your results. For which predictors can we reject the null hypothesis H0:βj=0 ?\n",
    "\n",
    "### Answer:"
   ]
  },
  {
   "cell_type": "code",
   "execution_count": 51,
   "id": "5af33007",
   "metadata": {},
   "outputs": [
    {
     "name": "stdout",
     "output_type": "stream",
     "text": [
      "                            OLS Regression Results                            \n",
      "==============================================================================\n",
      "Dep. Variable:                   crim   R-squared:                       0.449\n",
      "Model:                            OLS   Adj. R-squared:                  0.436\n",
      "Method:                 Least Squares   F-statistic:                     33.52\n",
      "Date:                Sun, 17 Aug 2025   Prob (F-statistic):           2.03e-56\n",
      "Time:                        13:17:45   Log-Likelihood:                -1655.4\n",
      "No. Observations:                 506   AIC:                             3337.\n",
      "Df Residuals:                     493   BIC:                             3392.\n",
      "Df Model:                          12                                         \n",
      "Covariance Type:            nonrobust                                         \n",
      "==============================================================================\n",
      "                 coef    std err          t      P>|t|      [0.025      0.975]\n",
      "------------------------------------------------------------------------------\n",
      "const         13.7784      7.082      1.946      0.052      -0.136      27.693\n",
      "zn             0.0457      0.019      2.433      0.015       0.009       0.083\n",
      "indus         -0.0584      0.084     -0.698      0.486      -0.223       0.106\n",
      "chas          -0.8254      1.183     -0.697      0.486      -3.150       1.500\n",
      "nox           -9.9576      5.290     -1.882      0.060     -20.351       0.436\n",
      "rm             0.6289      0.607      1.036      0.301      -0.564       1.822\n",
      "age           -0.0008      0.018     -0.047      0.962      -0.036       0.034\n",
      "dis           -1.0122      0.282     -3.584      0.000      -1.567      -0.457\n",
      "rad            0.6125      0.088      6.997      0.000       0.440       0.784\n",
      "tax           -0.0038      0.005     -0.730      0.466      -0.014       0.006\n",
      "ptratio       -0.3041      0.186     -1.632      0.103      -0.670       0.062\n",
      "lstat          0.1388      0.076      1.833      0.067      -0.010       0.288\n",
      "medv          -0.2201      0.060     -3.678      0.000      -0.338      -0.103\n",
      "==============================================================================\n",
      "Omnibus:                      663.436   Durbin-Watson:                   1.516\n",
      "Prob(Omnibus):                  0.000   Jarque-Bera (JB):            80856.852\n",
      "Skew:                           6.579   Prob(JB):                         0.00\n",
      "Kurtosis:                      63.514   Cond. No.                     1.24e+04\n",
      "==============================================================================\n",
      "\n",
      "Notes:\n",
      "[1] Standard Errors assume that the covariance matrix of the errors is correctly specified.\n",
      "[2] The condition number is large, 1.24e+04. This might indicate that there are\n",
      "strong multicollinearity or other numerical problems.\n",
      "\n",
      "Significant predictors (p < 0.05):\n",
      " zn      1.534403e-02\n",
      "dis     3.725942e-04\n",
      "rad     8.588123e-12\n",
      "medv    2.605302e-04\n",
      "dtype: float64\n"
     ]
    }
   ],
   "source": [
    "y = Boston[\"crim\"]\n",
    "X = Boston.drop(columns=[\"crim\"])\n",
    "X = sm.add_constant(X)\n",
    "multi_model = sm.OLS(y, X).fit()\n",
    "print(multi_model.summary())\n",
    "significant_predictors = multi_model.pvalues[multi_model.pvalues < 0.05]\n",
    "print(\"\\nSignificant predictors (p < 0.05):\\n\", significant_predictors)\n"
   ]
  }
 ],
 "metadata": {
  "kernelspec": {
   "display_name": "Python 3",
   "language": "python",
   "name": "python3"
  },
  "language_info": {
   "codemirror_mode": {
    "name": "ipython",
    "version": 3
   },
   "file_extension": ".py",
   "mimetype": "text/x-python",
   "name": "python",
   "nbconvert_exporter": "python",
   "pygments_lexer": "ipython3",
   "version": "3.13.6"
  }
 },
 "nbformat": 4,
 "nbformat_minor": 5
}
